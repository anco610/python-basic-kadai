{
  "nbformat": 4,
  "nbformat_minor": 0,
  "metadata": {
    "colab": {
      "provenance": []
    },
    "kernelspec": {
      "name": "python3",
      "display_name": "Python 3"
    },
    "language_info": {
      "name": "python"
    }
  },
  "cells": [
    {
      "cell_type": "code",
      "execution_count": null,
      "metadata": {
        "id": "32Et3HVoBSRy"
      },
      "outputs": [],
      "source": [
        "import random\n",
        "var = random.randint(1,15)\n",
        "print(var)\n",
        "\n",
        "if var % 3 ==0 and var % 5 == 0:\n",
        "    print(\"fizzbuzz\")\n",
        "elif var % 3 == 0:\n",
        "    print(\"fizz\")\n",
        "elif var % 5 == 0:\n",
        "    print(\"buzz\")\n",
        "else:\n",
        "    print(var)\n"
      ]
    }
  ]
}