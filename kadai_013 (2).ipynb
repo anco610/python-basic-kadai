{
  "nbformat": 4,
  "nbformat_minor": 0,
  "metadata": {
    "colab": {
      "provenance": [],
      "toc_visible": true
    },
    "kernelspec": {
      "name": "python3",
      "display_name": "Python 3"
    },
    "language_info": {
      "name": "python"
    }
  },
  "cells": [
    {
      "cell_type": "code",
      "source": [
        "def total_price(price, tax):\n",
        "    total_price = price*(100 + tax)/100\n",
        "    return total_price\n",
        "\n",
        "total_price = total_price(1000, 10)\n",
        "print(total_price)\n"
      ],
      "metadata": {
        "collapsed": true,
        "id": "dt2alR8G624T"
      },
      "execution_count": null,
      "outputs": []
    }
  ]
}