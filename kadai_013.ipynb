{
  "nbformat": 4,
  "nbformat_minor": 0,
  "metadata": {
    "colab": {
      "provenance": []
    },
    "kernelspec": {
      "name": "python3",
      "display_name": "Python 3"
    },
    "language_info": {
      "name": "python"
    }
  },
  "cells": [
    {
      "cell_type": "code",
      "source": [
        "def total_price(price,tax):\n",
        "    tax_rate = 1.1\n",
        "    total_price = price * (tax_rate)\n",
        "    return total_price\n",
        "\n",
        "total_price(1000, 1.1)"
      ],
      "metadata": {
        "id": "wlawM8dlG07m"
      },
      "execution_count": null,
      "outputs": []
    }
  ]
}