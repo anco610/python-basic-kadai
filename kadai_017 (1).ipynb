{
  "nbformat": 4,
  "nbformat_minor": 0,
  "metadata": {
    "colab": {
      "provenance": []
    },
    "kernelspec": {
      "name": "python3",
      "display_name": "Python 3"
    },
    "language_info": {
      "name": "python"
    }
  },
  "cells": [
    {
      "cell_type": "code",
      "source": [
        "class Human:\n",
        "    def __init__(self, name, age):\n",
        "        self.name = name\n",
        "        self.age = age\n",
        "\n",
        "    def check_adult(self):\n",
        "        if self.age >= 20:\n",
        "            print(f\"{self.name}は大人です。\")\n",
        "        else:\n",
        "            print(f\"{self.name}は大人ではありません。\")\n",
        "\n",
        "humans_list= [\n",
        "    (\"一郎\", 25),\n",
        "    (\"二郎\", 20),\n",
        "    (\"三郎\", 15),\n",
        "]\n",
        "\n",
        "humans = [Human(name, age) for name, age in humans_list]\n",
        "\n",
        "for human in humans:\n",
        "    human.check_adult()\n"
      ],
      "metadata": {
        "collapsed": true,
        "id": "QC6JzEizoXh3"
      },
      "execution_count": null,
      "outputs": []
    }
  ]
}