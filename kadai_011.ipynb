{
  "nbformat": 4,
  "nbformat_minor": 0,
  "metadata": {
    "colab": {
      "provenance": []
    },
    "kernelspec": {
      "name": "python3",
      "display_name": "Python 3"
    },
    "language_info": {
      "name": "python"
    }
  },
  "cells": [
    {
      "cell_type": "code",
      "execution_count": null,
      "metadata": {
        "collapsed": true,
        "id": "OfG82Y0juiVB"
      },
      "outputs": [],
      "source": [
        "array = [\"水\",\"金\",\"地\",\"火\",\"木\",\"土\",\"天\",\"海\",\"冥\"]\n",
        "for array in array:\n",
        "    print(array)"
      ]
    },
    {
      "cell_type": "code",
      "source": [
        "i = 0\n",
        "array = [\"水\",\"金\",\"地\",\"火\",\"木\",\"土\",\"天\",\"海\",\"冥\"]\n",
        "while i < len(array):\n",
        "    print(array[i])\n",
        "    i += 1"
      ],
      "metadata": {
        "id": "fJOzCudqMlEz"
      },
      "execution_count": null,
      "outputs": []
    }
  ]
}